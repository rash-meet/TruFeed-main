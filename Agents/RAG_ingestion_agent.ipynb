{
  "cells": [
    {
      "cell_type": "markdown",
      "source": [
        "This notebook contains the code to ingest and update RAG corpus and implement confidence score functionality"
      ],
      "metadata": {
        "id": "21c8OF0fcV7V"
      },
      "id": "21c8OF0fcV7V"
    },
    {
      "cell_type": "code",
      "id": "2uSeWYXw4dMUATcEo2FZf2wG",
      "metadata": {
        "tags": [],
        "id": "2uSeWYXw4dMUATcEo2FZf2wG"
      },
      "source": [
        "# Install required dependencies\n",
        "%pip install --upgrade --quiet google-cloud-aiplatform google-genai\n",
        "\n",
        "# Set up authentication\n",
        "from google.cloud import aiplatform\n",
        "from google.oauth2 import service_account\n",
        "import os\n",
        "\n",
        "# Initialize Vertex AI\n",
        "PROJECT_ID = \"<>\"\n",
        "REGION = \"us-central1\"\n",
        "\n",
        "aiplatform.init(\n",
        "    project=PROJECT_ID,\n",
        "    location=REGION\n",
        ")\n",
        "\n",
        "#RAW_PATHS    = [\n",
        "#    \"gs://my_bucket/news_2025_07/\",          # TODO: your GCS folder\n",
        "#    \"https://drive.google.com/drive/folders/1abcDEFgHIj\"  # optional Drive folder\n",
        "#]\n",
        "\n",
        "RAW_PATHS    = [\n",
        "    \"https://drive.google.com/drive/folders/1NHNSkg_TVA99IpqfyOlHdxzCQtXg-ag9?usp=sharing\"\n",
        "]\n",
        "\n"
      ],
      "execution_count": null,
      "outputs": []
    },
    {
      "cell_type": "code",
      "source": [
        "from google.genai.types import GenerateContentConfig, Retrieval, Tool, VertexRagStore\n",
        "from vertexai import rag"
      ],
      "metadata": {
        "id": "2VSuLcd8oSXb"
      },
      "id": "2VSuLcd8oSXb",
      "execution_count": null,
      "outputs": []
    },
    {
      "cell_type": "code",
      "source": [
        "# Currently supports Google first-party embedding models\n",
        "EMBEDDING_MODEL = \"publishers/google/models/text-embedding-005\"  # @param {type:\"string\", isTemplate: true}\n",
        "\n",
        "rag_corpus = rag.create_corpus(\n",
        "    display_name=\"my-trufeed-corpus\",\n",
        "    backend_config=rag.RagVectorDbConfig(\n",
        "        rag_embedding_model_config=rag.RagEmbeddingModelConfig(\n",
        "            vertex_prediction_endpoint=rag.VertexPredictionEndpoint(\n",
        "                publisher_model=EMBEDDING_MODEL\n",
        "            )\n",
        "        )\n",
        "    ),\n",
        ")\n"
      ],
      "metadata": {
        "id": "9QM8NK-BoYZ1"
      },
      "id": "9QM8NK-BoYZ1",
      "execution_count": null,
      "outputs": []
    },
    {
      "cell_type": "code",
      "source": [
        "if RAW_PATHS:\n",
        "    op = rag.import_files(\n",
        "        rag_corpus.name,                  # ← use the freshly-created corpus\n",
        "        RAW_PATHS,\n",
        "        transformation_config=rag.TransformationConfig(\n",
        "            chunking_config=rag.ChunkingConfig(\n",
        "                chunk_size=512,\n",
        "                chunk_overlap=100,\n",
        "            )\n",
        "        ),\n",
        "        max_embedding_requests_per_min=1_000,  # throttle if very large\n",
        "    )\n",
        "    resp = op\n",
        "    print(\"📚 Import complete!  ✅\")\n",
        "else:\n",
        "    print(\"➡️  RAW_PATHS empty – skipping import\")"
      ],
      "metadata": {
        "id": "eZAgSJp5o-XU",
        "colab": {
          "base_uri": "https://localhost:8080/"
        },
        "outputId": "b37d74e6-61a2-4403-c0ed-8fc25c6ffbc3"
      },
      "id": "eZAgSJp5o-XU",
      "execution_count": null,
      "outputs": [
        {
          "output_type": "stream",
          "name": "stdout",
          "text": [
            "📚 Import complete!  ✅\n"
          ]
        }
      ]
    },
    {
      "cell_type": "markdown",
      "source": [
        "Testing rag Submission"
      ],
      "metadata": {
        "id": "RqUXTD7i21X1"
      },
      "id": "RqUXTD7i21X1"
    },
    {
      "cell_type": "code",
      "source": [
        "response = rag.retrieval_query(\n",
        "    rag_resources=[\n",
        "        rag.RagResource(\n",
        "            rag_corpus=rag_corpus.name,\n",
        "            # Optional: supply IDs from rag.list_files().\n",
        "            # rag_file_ids=[\"rag-file-1\", \"rag-file-2\", ...],\n",
        "        )\n",
        "    ],\n",
        "    rag_retrieval_config=rag.RagRetrievalConfig(\n",
        "        top_k=10,  # Optional\n",
        "        filter=rag.Filter(\n",
        "            vector_distance_threshold=0.5,  # Optional\n",
        "        ),\n",
        "    ),\n",
        "    text=\"What is principles and why it is helpful?\",\n",
        ")\n",
        "print(response)"
      ],
      "metadata": {
        "colab": {
          "base_uri": "https://localhost:8080/"
        },
        "id": "TUELxjAg4NhH",
        "outputId": "0ef65241-9d07-4774-8ffa-f2380eef2d28"
      },
      "id": "TUELxjAg4NhH",
      "execution_count": null,
      "outputs": [
        {
          "output_type": "stream",
          "name": "stdout",
          "text": [
            "contexts {\n",
            "  contexts {\n",
            "    source_uri: \"https://drive.google.com/file/d/110f6_vAaXZeionxWeoTTMYb4Py1Mwdqv/view?usp=drivesdk\"\n",
            "    text: \"IFCN CODE OF PRINCIPLES  (extract)\\r\\n\\r\\n1. Non-partisanship & Fairness  \\r\\n2. Transparency of Sources  \\r\\n3. Transparency of Funding & Organisation  \\r\\n4. Transparency of Methodology (publish the fact-check process)  \\r\\n5. Open & Honest Corrections\"\n",
            "    source_display_name: \"ifcn_code.txt\"\n",
            "    score: 0.46018200972185153\n",
            "    chunk {\n",
            "      text: \"IFCN CODE OF PRINCIPLES  (extract)\\r\\n\\r\\n1. Non-partisanship & Fairness  \\r\\n2. Transparency of Sources  \\r\\n3. Transparency of Funding & Organisation  \\r\\n4. Transparency of Methodology (publish the fact-check process)  \\r\\n5. Open & Honest Corrections\"\n",
            "    }\n",
            "  }\n",
            "  contexts {\n",
            "    source_uri: \"https://drive.google.com/file/d/1TjWFtIDKoPsgZ0LxV8D2CWNimewULSaq/view?usp=drivesdk\"\n",
            "    text: \"REUTERS TRUST PRINCIPLES  (abridged)\\r\\n\\r\\n1. Accuracy • Every story is fact-checked; errors corrected promptly and transparently.\\r\\n2. Independence • No government, corporate or partisan influence is permitted.\\r\\n3. Freedom from bias • Use neutral language; present all relevant sides.\\r\\n4. Reliability of sources • Prefer primary documents, witnesses, and on-the-record officials.\\r\\n5. Transparency • Cite sources; explain anonymous sourcing; link documents when possible.\"\n",
            "    source_display_name: \"reuter_principles.txt\"\n",
            "    score: 0.4658822351747266\n",
            "    chunk {\n",
            "      text: \"REUTERS TRUST PRINCIPLES  (abridged)\\r\\n\\r\\n1. Accuracy • Every story is fact-checked; errors corrected promptly and transparently.\\r\\n2. Independence • No government, corporate or partisan influence is permitted.\\r\\n3. Freedom from bias • Use neutral language; present all relevant sides.\\r\\n4. Reliability of sources • Prefer primary documents, witnesses, and on-the-record officials.\\r\\n5. Transparency • Cite sources; explain anonymous sourcing; link documents when possible.\"\n",
            "    }\n",
            "  }\n",
            "  contexts {\n",
            "    source_uri: \"https://drive.google.com/file/d/1gM8ggqNZSqj2YNNvvj8hj6vFsjfp6sTg/view?usp=drivesdk\"\n",
            "    text: \"AP NEWS VALUES & PRINCIPLES  (key excerpts)\\r\\n\\r\\n• VERIFY BEFORE PUBLISH - At least two independent corroborations for extraordinary claims.  \\r\\n• “BEAT” EXPERTISE - Reporters provide context, not just raw quotes.  \\r\\n• CORRECTIONS - Corrections are appended, never overwritten.  \\r\\n• CONFLICT-OF-INTEREST DISCLOSURE - Reporters may not cover entities they have a stake in.  \\r\\n• SOURCE TRANSPARENCY RANK 1-5 - 1 = public document, 5 = unnamed source; favour low numbers.\"\n",
            "    source_display_name: \"ap_news_values.txt\"\n",
            "    score: 0.4727971832200174\n",
            "    chunk {\n",
            "      text: \"AP NEWS VALUES & PRINCIPLES  (key excerpts)\\r\\n\\r\\n• VERIFY BEFORE PUBLISH - At least two independent corroborations for extraordinary claims.  \\r\\n• “BEAT” EXPERTISE - Reporters provide context, not just raw quotes.  \\r\\n• CORRECTIONS - Corrections are appended, never overwritten.  \\r\\n• CONFLICT-OF-INTEREST DISCLOSURE - Reporters may not cover entities they have a stake in.  \\r\\n• SOURCE TRANSPARENCY RANK 1-5 - 1 = public document, 5 = unnamed source; favour low numbers.\"\n",
            "    }\n",
            "  }\n",
            "}\n",
            "\n"
          ]
        }
      ]
    },
    {
      "cell_type": "code",
      "source": [
        "from vertexai.generative_models import GenerativeModel, Tool\n",
        "\n",
        "retrieval_tool = Tool.from_retrieval(\n",
        "    retrieval=rag.Retrieval(\n",
        "        source=rag.VertexRagStore(\n",
        "            rag_resources=[rag.RagResource(rag_corpus=rag_corpus.name)],\n",
        "            rag_retrieval_config=retrieval_cfg,\n",
        "        )\n",
        "    )\n",
        ")\n",
        "\n",
        "gemini = GenerativeModel(model_name=\"gemini-2.0-flash\", tools=[retrieval_tool])\n",
        "\n",
        "response = gemini.generate_content(\n",
        "    \"\"\"\n",
        "> You are an AI assistant trained in fact verification and media integrity evaluation. You will receive a **cluster of user-submitted event data** — including images, text summaries, locations, and metadata — that has been aggregated from social media or public sources.\n",
        ">\n",
        "> Your job is to:\n",
        ">\n",
        "> 1. **Compare this data** with the knowledge provided from authoritative sources (retrieved below).\n",
        "> 2. **Apply core journalistic principles** such as: corroboration, source triangulation, factual consistency, bias detection, and plausibility.\n",
        "> 3. **Assign a confidence score (0 to 100)** that reflects how likely it is that the reported event is **true and factual**.\n",
        ">\n",
        "> ### Use these scoring tiers:\n",
        ">\n",
        "> * **90–100**: Strong alignment with multiple sources, highly factual.\n",
        "> * **70–89**: Partial alignment, but missing full confirmation or lacking some detail.\n",
        "> * **50–69**: Possible but unconfirmed; unclear or speculative.\n",
        "> * **30–49**: Conflicts with verified sources or contains questionable claims.\n",
        "> * **0–29**: Very likely to be false, manipulated, or entirely unsubstantiated.\n",
        "\n",
        "---\n",
        "\n",
        "###  Evaluate Based on:\n",
        "\n",
        "* Does the location/time match verified records?\n",
        "* Are similar reports found in news, civic data, or government feeds?\n",
        "* Does the tone resemble typical real-world incident reporting?\n",
        "* Are there red flags like exaggerated sentiment, inconsistency, or clickbait language?\n",
        "\n",
        "---\n",
        "\n",
        "###  Input:\n",
        "\n",
        "**Clustered Event Data**:\n",
        "\n",
        "```\n",
        "{cluster_data}\n",
        "```\n",
        "\n",
        "**Retrieved Source Data (RAG)**:\n",
        "\n",
        "```\n",
        "{retrieved_documents}\n",
        "```\n",
        "\n",
        "---\n",
        "\n",
        "###  Output Format:\n",
        "\n",
        "```json\n",
        "{\n",
        "  \"confidence_score\": 87,\n",
        "  \"reasoning\": \"The event aligns with 3 independent sources including local news reports and official alerts. The tone is consistent with civic incident reporting, and the location matches verified maps.\"\n",
        "}\n",
        "```\n",
        "\n",
        "\"\"\"\n",
        ")\n",
        "print(response.text)"
      ],
      "metadata": {
        "id": "XXfl3uJIpcYp"
      },
      "id": "XXfl3uJIpcYp",
      "execution_count": null,
      "outputs": []
    },
    {
      "cell_type": "code",
      "source": [
        "def rag_ask(question: str, top_k: int = 4, model=\"gemini-2.0-flash\"):\n",
        "    cfg   = rag.RagRetrievalConfig(top_k=top_k)\n",
        "    tool  = Tool.from_retrieval(\n",
        "        retrieval=rag.Retrieval(\n",
        "            source=rag.VertexRagStore(\n",
        "                rag_resources=[rag.RagResource(rag_corpus=rag_corpus.name)],\n",
        "                rag_retrieval_config=cfg,\n",
        "            )\n",
        "        )\n",
        "    )\n",
        "    llm   = GenerativeModel(model_name=model, tools=[tool])\n",
        "    return llm.generate_content(question).text.strip()\n",
        "\n",
        "print(\n",
        "    rag_ask(\"response\", {cluster_content})\n",
        ")"
      ],
      "metadata": {
        "id": "4k6qNJnHpjly"
      },
      "id": "4k6qNJnHpjly",
      "execution_count": null,
      "outputs": []
    }
  ],
  "metadata": {
    "kernelspec": {
      "display_name": "Python 3",
      "language": "python",
      "name": "python3"
    },
    "language_info": {
      "codemirror_mode": {
        "name": "ipython",
        "version": 3
      },
      "file_extension": ".py",
      "mimetype": "text/x-python",
      "name": "python",
      "nbconvert_exporter": "python",
      "pygments_lexer": "ipython3",
      "version": "3.10.10"
    },
    "colab": {
      "provenance": [],
      "name": "RAG ingestion agent"
    }
  },
  "nbformat": 4,
  "nbformat_minor": 5
}