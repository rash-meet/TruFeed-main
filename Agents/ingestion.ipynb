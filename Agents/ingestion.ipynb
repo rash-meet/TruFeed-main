{
  "cells": [
    {
      "cell_type": "markdown",
      "source": [
        "requirements"
      ],
      "metadata": {
        "id": "RkWHwMw9N3ju"
      },
      "id": "RkWHwMw9N3ju"
    },
    {
      "cell_type": "code",
      "id": "a7ZN78TR4LAyTwSUUS2AfRBt",
      "metadata": {
        "tags": [],
        "id": "a7ZN78TR4LAyTwSUUS2AfRBt"
      },
      "source": [
        "!pip install --upgrade google-cloud-aiplatform pymongo requests"
      ],
      "execution_count": null,
      "outputs": []
    },
    {
      "cell_type": "markdown",
      "source": [
        "project credentials"
      ],
      "metadata": {
        "id": "tBZs1seIN6ms"
      },
      "id": "tBZs1seIN6ms"
    },
    {
      "cell_type": "code",
      "source": [
        "from google.cloud import aiplatform\n",
        "\n",
        "# Set your GCP project and region\n",
        "PROJECT_ID = \"projectid\"\n",
        "REGION = \"us-central1\"\n",
        "\n",
        "aiplatform.init(project=PROJECT_ID, location=REGION)"
      ],
      "metadata": {
        "id": "QsbcfOSpywCR"
      },
      "id": "QsbcfOSpywCR",
      "execution_count": null,
      "outputs": []
    },
    {
      "cell_type": "markdown",
      "source": [
        "this is our ingestion agent that analysis and stores scraped data from different social media platforms, user-submitted reports"
      ],
      "metadata": {
        "id": "BuA6abGLOFD2"
      },
      "id": "BuA6abGLOFD2"
    },
    {
      "cell_type": "markdown",
      "source": [],
      "metadata": {
        "id": "sSVcoRv6b-WU"
      },
      "id": "sSVcoRv6b-WU"
    },
    {
      "cell_type": "code",
      "source": [
        "#ingestion agent\n",
        "# --- Setup ---\n",
        "import requests, json, imghdr, re\n",
        "from vertexai.preview.generative_models import GenerativeModel, Part\n",
        "from google.cloud import firestore\n",
        "\n",
        "# --- Initialize Gemini Model ---\n",
        "gemini_model = GenerativeModel(\"gemini-2.5-flash\")\n",
        "embedding_model = GenerativeModel(\"gemini-2.5-flash\")\n",
        "\n",
        "# --- Initialize Firestore ---\n",
        "db = firestore.Client()\n",
        "collection = db.collection(\"ingestion\")  # Firestore collection name\n",
        "\n",
        "\n",
        "# --- Helper: Insert If Not Exists ---\n",
        "def insert_if_not_exists(doc):\n",
        "    query = collection.where(\"media_url\", \"==\", doc[\"media_url\"]).limit(1).stream()\n",
        "    if any(query):\n",
        "        print(\" Duplicate media_url found. Skipping insertion.\")\n",
        "        return False\n",
        "    collection.add(doc)\n",
        "    print(\" Inserted into Firestore.\")\n",
        "    return True\n",
        "\n",
        "\n",
        "# --- Helper: Build Tags for Clustering ---\n",
        "def build_tokens(doc):\n",
        "    text = \" \".join([\n",
        "        doc[\"summary\"] or \"\",\n",
        "        doc[\"sentiment\"] or \"\",\n",
        "        doc[\"media_insight\"] or \"\"\n",
        "    ]).strip()\n",
        "\n",
        "    prompt = f\"\"\"\n",
        "You are a text-to-tags generator for clustering.\n",
        "Extract exactly 20 to 50 discriminating keywords or short phrases (one word only) from the text below.\n",
        "Return ONLY a valid JSON array of strings, nothing else.\n",
        "\n",
        "Text:\n",
        "{text}\n",
        "\"\"\"\n",
        "    try:\n",
        "        raw = embedding_model.generate_content(prompt).text.strip()\n",
        "        raw = re.sub(r\"```(?:json)?\", \"\", raw, flags=re.I).strip()\n",
        "        tokens = json.loads(raw)\n",
        "\n",
        "        if not isinstance(tokens, list):\n",
        "            raise ValueError(\"Gemini did not return a JSON array\")\n",
        "        tokens = [t.strip() for t in tokens if t.strip()]\n",
        "        if not (20 <= len(tokens) <= 50):\n",
        "            raise ValueError(f\"Token count {len(tokens)} is outside 20–50\")\n",
        "        return tokens\n",
        "    except json.JSONDecodeError as e:\n",
        "        print(f\"JSON parsing error in build_tokens: {e}. Raw content: {raw}\")\n",
        "        raise\n",
        "    except Exception as e:\n",
        "        print(f\"Error building tokens: {e}\")\n",
        "        raise\n",
        "\n",
        "\n",
        "# --- Main Function: Image Post Ingestion ---\n",
        "def process_instagram_image_post(post: dict):\n",
        "    \"\"\"\n",
        "    Ingests an Instagram image post:\n",
        "    {\n",
        "        \"id\": \"123456\",\n",
        "        \"media_url\": \"https://...jpg\",\n",
        "        \"caption\": \"Some caption here...\",\n",
        "        \"timestamp\": \"2025-07-27T08:00:00Z\"\n",
        "    }\n",
        "    \"\"\"\n",
        "    caption_raw = \"\"\n",
        "    try:\n",
        "        # 1. Download & validate image\n",
        "        resp = requests.get(post[\"media_url\"], stream=True, timeout=30)\n",
        "        resp.raise_for_status()\n",
        "        img_bytes = resp.content\n",
        "        img_fmt = imghdr.what(None, img_bytes)\n",
        "        if not img_fmt:\n",
        "            raise ValueError(\"Downloaded bytes are not a recognised image format\")\n",
        "        mime = f\"image/{img_fmt}\"\n",
        "        img_part = Part.from_data(img_bytes, mime)\n",
        "\n",
        "        # 2. Generate image insight + time\n",
        "        vision_prompt = \"\"\"\n",
        "You are a video analyst for a breaking news agency.\n",
        "\n",
        "Watch the video carefully and report:\n",
        "1. What is happening in the scene? Mention number of people, actions (protest, celebration, accident), banners, signs, police, etc.\n",
        "2. Are there any audible elements like shouting, sirens, music, slogans?\n",
        "3. How many people are visible? Small, medium, or large crowd?\n",
        "4. Mention vehicles or symbols (flags, logos, etc.) visible.\n",
        "5. If any protest or movement, mention likely cause (if banners or text suggest it).\n",
        "\n",
        "Be concise but factual. Use your visual understanding.\n",
        "Output must be under 120 words.\n",
        "\"\"\"\n",
        "        time_prompt = \"\"\"\n",
        "Estimate time-of-day from shadows and lighting. Format: \"07AM-12PM\", \"12PM-05PM\", etc.\n",
        "\"\"\"\n",
        "\n",
        "        media_insight = gemini_model.generate_content([vision_prompt, img_part]).text.strip()\n",
        "        time_of_day = gemini_model.generate_content([time_prompt, img_part]).text.strip()\n",
        "\n",
        "        # 3. Analyze caption for summary + sentiment\n",
        "        caption_prompt = f\"\"\"\n",
        "You are an event intelligence analyst.\n",
        "Output JSON: {{\"summary\": \"One-sentence event summary in English\", \"sentiment\": \"positive | negative | neutral\"}}\n",
        "Caption: {post['caption']}\n",
        "\"\"\"\n",
        "        caption_raw = gemini_model.generate_content(caption_prompt).text\n",
        "        caption_json = json.loads(re.sub(r\"```(?:json)?\", \"\", caption_raw, flags=re.I).strip())\n",
        "\n",
        "        # 4. Extract location from caption + image\n",
        "        loc_prompt = f\"\"\"\n",
        "Extract the most specific Indian location from caption + image.\n",
        "Return JSON: {{\"location\": \"City, State\"}}\n",
        "Caption: {post['caption']}\n",
        "Image Description: {media_insight}\n",
        "\"\"\"\n",
        "        loc_raw = gemini_model.generate_content(loc_prompt).text\n",
        "        location = json.loads(re.sub(r\"```(?:json)?\", \"\", loc_raw, flags=re.I).strip())[\"location\"]\n",
        "\n",
        "        # 5. Re-validate sentiment for news-worthiness\n",
        "        sentiment_prompt = f\"\"\"\n",
        "Classify sentiment for news-worthiness. Return JSON: {{\"sentiment\": \"positive|negative|neutral|invalid\"}}\n",
        "Caption: {post['caption']}\n",
        "Image Description: {media_insight}\n",
        "\"\"\"\n",
        "        sent_raw = gemini_model.generate_content(sentiment_prompt).text\n",
        "        final_sentiment = json.loads(re.sub(r\"```(?:json)?\", \"\", sent_raw, flags=re.I).strip())[\"sentiment\"]\n",
        "        if final_sentiment == \"invalid\":\n",
        "            print(\" Post classified as 'invalid'. Skipping.\")\n",
        "            return None\n",
        "\n",
        "        # 6. Build document and store\n",
        "        doc = {\n",
        "            \"id\": post.get(\"id\"),\n",
        "            \"summary\": caption_json[\"summary\"],\n",
        "            \"sentiment\": final_sentiment,\n",
        "            \"media_insight\": media_insight,\n",
        "            \"time_of_day\": time_of_day,\n",
        "            \"location\": location,\n",
        "            \"media_url\": post[\"media_url\"],\n",
        "            \"timestamp\": post[\"timestamp\"]\n",
        "        }\n",
        "\n",
        "        doc[\"tags\"] = build_tokens(doc)\n",
        "        insert_if_not_exists(doc)\n",
        "        return doc\n",
        "\n",
        "    except Exception as e:\n",
        "        print(f\" Image ingestion error: {e}\")\n",
        "        return None\n"
      ],
      "metadata": {
        "id": "ehXt5mEa0xlt"
      },
      "id": "ehXt5mEa0xlt",
      "execution_count": null,
      "outputs": []
    },
    {
      "cell_type": "markdown",
      "source": [
        "Example post."
      ],
      "metadata": {
        "id": "LaCOugacc8t5"
      },
      "id": "LaCOugacc8t5"
    },
    {
      "cell_type": "code",
      "source": [
        "test_posts = [\n",
        "\n",
        "    {\n",
        "        \"id\": \"405029\",\n",
        "        \"caption\": \"Hundreds of farmers came on roads to protest on national highway in ghaziabad\",\n",
        "        \"media_url\": \"https://newsus.cgtn.com/news/2021-02-04/Indian-farmers-protest-and-highway-blockade-continues-XAM6kIF8vC/img/2d536ed6969341bca0ddecdb36754c8e/2d536ed6969341bca0ddecdb36754c8e.jpeg\",\n",
        "        \"timestamp\": \"2025-07-26T08:09:00Z\"\n",
        "    }\n",
        "]\n",
        "\n",
        "# Process each post\n",
        "for post in test_posts:\n",
        "    result = process_instagram_image_post(post)\n",
        "    print(result)"
      ],
      "metadata": {
        "colab": {
          "base_uri": "https://localhost:8080/"
        },
        "id": "IRoWvXJG_w4u",
        "outputId": "9d184c8c-4ccd-435d-918f-2eaca2254d5f"
      },
      "id": "IRoWvXJG_w4u",
      "execution_count": null,
      "outputs": [
        {
          "output_type": "stream",
          "name": "stdout",
          "text": [
            " Image inserted\n",
            "{'id': '405029', 'summary': 'Hundreds of farmers are protesting on a national highway in Ghaziabad.', 'sentiment': 'negative', 'media_insight': '1.  A vast crowd of predominantly men is gathered outdoors in Kandela, India. Many raise their hands, some open-palmed, others in fists, beneath a prominently displayed Indian flag. Figures are also visible on a distant vehicle and a raised platform.\\n2.  The large assembly, unified gestures, and prominent national flag strongly indicate an ongoing rally, demonstration, or protest. The raised hands suggest active participation and collective solidarity or dissent.\\n3.  Bright, natural daylight illuminates the scene. Many participants wear multiple layers, including sweaters and shawls, suggesting cool, dry weather, likely during late autumn or winter.', 'time_of_day': '12PM-05PM', 'location': 'Ghaziabad, Uttar Pradesh', 'media_url': 'https://newsus.cgtn.com/news/2021-02-04/Indian-farmers-protest-and-highway-blockade-continues-XAM6kIF8vC/img/2d536ed6969341bca0ddecdb36754c8e/2d536ed6969341bca0ddecdb36754c8e.jpeg', 'timestamp': '2025-07-26T08:09:00Z', 'tags': ['farmers', 'protesting', 'highway', 'Ghaziabad', 'crowd', 'men', 'outdoors', 'Kandela', 'India', 'hands', 'raised', 'open-palmed', 'fists', 'flag', 'Indian', 'vehicle', 'platform', 'assembly', 'gestures', 'rally', 'demonstration', 'dissent', 'solidarity', 'participation', 'daylight', 'bright', 'participants', 'layers', 'sweaters', 'shawls', 'cool', 'weather', 'autumn', 'winter', 'national', 'vast', 'collective', 'active', 'prominent', 'dry'], '_id': ObjectId('6885a30ed9811324e0c6cd16')}\n"
          ]
        }
      ]
    }
  ],
  "metadata": {
    "kernelspec": {
      "display_name": "Python 3",
      "language": "python",
      "name": "python3"
    },
    "language_info": {
      "codemirror_mode": {
        "name": "ipython",
        "version": 3
      },
      "file_extension": ".py",
      "mimetype": "text/x-python",
      "name": "python",
      "nbconvert_exporter": "python",
      "pygments_lexer": "ipython3",
      "version": "3.10.10"
    },
    "colab": {
      "provenance": [],
      "name": "TRUFEED"
    }
  },
  "nbformat": 4,
  "nbformat_minor": 5
}